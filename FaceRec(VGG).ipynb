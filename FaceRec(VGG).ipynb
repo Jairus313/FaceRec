{
  "nbformat": 4,
  "nbformat_minor": 0,
  "metadata": {
    "colab": {
      "name": "FaceRec(VGG).ipynb",
      "provenance": [],
      "collapsed_sections": []
    },
    "kernelspec": {
      "name": "python3",
      "display_name": "Python 3"
    },
    "accelerator": "GPU"
  },
  "cells": [
    {
      "cell_type": "code",
      "metadata": {
        "id": "FzbUfow2WOKW",
        "colab_type": "code",
        "colab": {}
      },
      "source": [
        "import keras,os\n",
        "from tensorflow.python.keras.models import Sequential, Model\n",
        "from tensorflow.python.keras.layers import Dense, Conv2D, MaxPool2D , Flatten, Activation, Dropout\n",
        "from tensorflow.python.keras.preprocessing.image import ImageDataGenerator\n",
        "import numpy as np"
      ],
      "execution_count": 0,
      "outputs": []
    },
    {
      "cell_type": "code",
      "metadata": {
        "id": "3k42CAfDBSDY",
        "colab_type": "code",
        "colab": {}
      },
      "source": [
        "from tensorflow.keras.applications.vgg16 import VGG16"
      ],
      "execution_count": 0,
      "outputs": []
    },
    {
      "cell_type": "markdown",
      "metadata": {
        "id": "yR2VuOwijlgN",
        "colab_type": "text"
      },
      "source": [
        "### **Some data augmentation technique.**"
      ]
    },
    {
      "cell_type": "code",
      "metadata": {
        "id": "bPC0jHMoa0R_",
        "colab_type": "code",
        "colab": {}
      },
      "source": [
        "train_datagen = ImageDataGenerator(rescale = 1./255,\n",
        "                                   shear_range = 0.2,\n",
        "                                   width_shift_range=[-200,200],\n",
        "                                   height_shift_range=0.5,\n",
        "                                   zoom_range=[0.5,1.0],\n",
        "                                   brightness_range=[0.2,1.0],\n",
        "                                   rotation_range=90,\n",
        "                                   horizontal_flip = True)"
      ],
      "execution_count": 0,
      "outputs": []
    },
    {
      "cell_type": "code",
      "metadata": {
        "id": "FoZmCc28bkPx",
        "colab_type": "code",
        "colab": {}
      },
      "source": [
        "test_datagen = ImageDataGenerator(rescale = 1./255)"
      ],
      "execution_count": 0,
      "outputs": []
    },
    {
      "cell_type": "markdown",
      "metadata": {
        "id": "hFce11BIjTwO",
        "colab_type": "text"
      },
      "source": [
        "### **Dataset is uploaded to google drive and directory path is taken from there.**"
      ]
    },
    {
      "cell_type": "code",
      "metadata": {
        "id": "iysRsObbbkSw",
        "colab_type": "code",
        "colab": {}
      },
      "source": [
        "train_generator = train_datagen.flow_from_directory(\n",
        "        \"/content/drive/My Drive/dataset/train\",\n",
        "        target_size=(224, 224))"
      ],
      "execution_count": 0,
      "outputs": []
    },
    {
      "cell_type": "code",
      "metadata": {
        "id": "3_2kY9k0dd9_",
        "colab_type": "code",
        "colab": {}
      },
      "source": [
        "test_generator = test_datagen.flow_from_directory(\n",
        "        \"/content/drive/My Drive/dataset/test\",\n",
        "        target_size = (224, 224))"
      ],
      "execution_count": 0,
      "outputs": []
    },
    {
      "cell_type": "markdown",
      "metadata": {
        "id": "Wb9gYrRVj3jl",
        "colab_type": "text"
      },
      "source": [
        "### **Transfer learning using VGG16 model**"
      ]
    },
    {
      "cell_type": "code",
      "metadata": {
        "id": "elChA-eGbkaH",
        "colab_type": "code",
        "colab": {}
      },
      "source": [
        "vgg_model = VGG16(input_shape=(224, 224, 3), weights='imagenet')"
      ],
      "execution_count": 0,
      "outputs": []
    },
    {
      "cell_type": "code",
      "metadata": {
        "id": "sGcpRC8rbkeQ",
        "colab_type": "code",
        "colab": {}
      },
      "source": [
        "vgg_model.summary()"
      ],
      "execution_count": 0,
      "outputs": []
    },
    {
      "cell_type": "markdown",
      "metadata": {
        "id": "XnBs8uzRkcTo",
        "colab_type": "text"
      },
      "source": [
        "### **We not taking entire architecture from vgg we are some part of it. So, we creating our own model**\n"
      ]
    },
    {
      "cell_type": "code",
      "metadata": {
        "id": "JXltXrS0bkhR",
        "colab_type": "code",
        "colab": {}
      },
      "source": [
        "model = Sequential()"
      ],
      "execution_count": 0,
      "outputs": []
    },
    {
      "cell_type": "code",
      "metadata": {
        "id": "Vl8WDZxYehe4",
        "colab_type": "code",
        "colab": {}
      },
      "source": [
        "#Taking till 10th layer\n",
        "\n",
        "for layer in vgg_model.layers[:11]:\n",
        "    model.add(layer)"
      ],
      "execution_count": 0,
      "outputs": []
    },
    {
      "cell_type": "code",
      "metadata": {
        "id": "3pWo7tDFehrf",
        "colab_type": "code",
        "colab": {}
      },
      "source": [
        "model.summary()"
      ],
      "execution_count": 0,
      "outputs": []
    },
    {
      "cell_type": "code",
      "metadata": {
        "id": "rlrAP1yEehuP",
        "colab_type": "code",
        "colab": {}
      },
      "source": [
        "#Freezing first 3 layers\n",
        "\n",
        "for layer in model.layers[:-9]:\n",
        "  layer.trainable = False"
      ],
      "execution_count": 0,
      "outputs": []
    },
    {
      "cell_type": "code",
      "metadata": {
        "id": "OVv3HxdZWGJK",
        "colab_type": "code",
        "colab": {}
      },
      "source": [
        "model.add(Flatten())"
      ],
      "execution_count": 0,
      "outputs": []
    },
    {
      "cell_type": "code",
      "metadata": {
        "id": "_1z6zyLpeoow",
        "colab_type": "code",
        "colab": {}
      },
      "source": [
        "model.add(Dense(2, activation=\"softmax\"))"
      ],
      "execution_count": 0,
      "outputs": []
    },
    {
      "cell_type": "code",
      "metadata": {
        "id": "UHpyA176eosf",
        "colab_type": "code",
        "colab": {}
      },
      "source": [
        "model.summary()"
      ],
      "execution_count": 0,
      "outputs": []
    },
    {
      "cell_type": "code",
      "metadata": {
        "id": "38aqBRK2eovf",
        "colab_type": "code",
        "colab": {}
      },
      "source": [
        "model.compile(\n",
        "  loss='categorical_crossentropy',\n",
        "  optimizer=\"Adam\",\n",
        "  metrics=['accuracy']\n",
        ")"
      ],
      "execution_count": 0,
      "outputs": []
    },
    {
      "cell_type": "code",
      "metadata": {
        "id": "vdxnDlK2eoyH",
        "colab_type": "code",
        "colab": {}
      },
      "source": [
        "history = model.fit(train_generator,\n",
        "                    validation_data=test_generator,\n",
        "                    epochs=25,\n",
        "                    steps_per_epoch=2,\n",
        "                    validation_steps=1\n",
        "                    )"
      ],
      "execution_count": 0,
      "outputs": []
    }
  ]
}