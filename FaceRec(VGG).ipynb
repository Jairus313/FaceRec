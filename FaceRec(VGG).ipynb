{
  "nbformat": 4,
  "nbformat_minor": 0,
  "metadata": {
    "colab": {
      "name": "FaceRec(VGG).ipynb",
      "provenance": [],
      "collapsed_sections": []
    },
    "kernelspec": {
      "name": "python3",
      "display_name": "Python 3"
    },
    "accelerator": "GPU"
  },
  "cells": [
    {
      "cell_type": "code",
      "metadata": {
        "id": "FzbUfow2WOKW",
        "colab_type": "code",
        "outputId": "eea8b6f1-93b8-4796-9207-68917a7fedbf",
        "colab": {
          "base_uri": "https://localhost:8080/",
          "height": 34
        }
      },
      "source": [
        "import keras,os\n",
        "from tensorflow.python.keras.models import Sequential, Model\n",
        "from tensorflow.python.keras.layers import Dense, Conv2D, MaxPool2D , Flatten, Activation, Dropout\n",
        "from tensorflow.python.keras.preprocessing.image import ImageDataGenerator\n",
        "import numpy as np"
      ],
      "execution_count": 0,
      "outputs": [
        {
          "output_type": "stream",
          "text": [
            "Using TensorFlow backend.\n"
          ],
          "name": "stderr"
        }
      ]
    },
    {
      "cell_type": "code",
      "metadata": {
        "id": "3k42CAfDBSDY",
        "colab_type": "code",
        "colab": {}
      },
      "source": [
        "from tensorflow.keras.applications.vgg16 import VGG16"
      ],
      "execution_count": 0,
      "outputs": []
    },
    {
      "cell_type": "markdown",
      "metadata": {
        "id": "yR2VuOwijlgN",
        "colab_type": "text"
      },
      "source": [
        "### **Some data augmentation technique.**"
      ]
    },
    {
      "cell_type": "code",
      "metadata": {
        "id": "bPC0jHMoa0R_",
        "colab_type": "code",
        "colab": {}
      },
      "source": [
        "train_datagen = ImageDataGenerator(rescale = 1./255,\n",
        "                                   shear_range = 0.2,\n",
        "                                   width_shift_range=[-200,200],\n",
        "                                   height_shift_range=0.5,\n",
        "                                   zoom_range=[0.5,1.0],\n",
        "                                   brightness_range=[0.2,1.0],\n",
        "                                   rotation_range=90,\n",
        "                                   horizontal_flip = True)"
      ],
      "execution_count": 0,
      "outputs": []
    },
    {
      "cell_type": "code",
      "metadata": {
        "id": "FoZmCc28bkPx",
        "colab_type": "code",
        "colab": {}
      },
      "source": [
        "test_datagen = ImageDataGenerator(rescale = 1./255)"
      ],
      "execution_count": 0,
      "outputs": []
    },
    {
      "cell_type": "markdown",
      "metadata": {
        "id": "hFce11BIjTwO",
        "colab_type": "text"
      },
      "source": [
        "### **Dataset is uploaded to google drive and directory path is taken from there.**"
      ]
    },
    {
      "cell_type": "code",
      "metadata": {
        "id": "iysRsObbbkSw",
        "colab_type": "code",
        "outputId": "a49cc034-11b5-436e-eaa2-d7ef935a44b3",
        "colab": {
          "base_uri": "https://localhost:8080/",
          "height": 34
        }
      },
      "source": [
        "train_generator = ImageDataGenerator(preprocessing_function = keras.applications.vgg16.preprocess_input).flow_from_directory(\n",
        "        \"/content/drive/My Drive/dataset/trian\",\n",
        "        target_size=(224, 224))"
      ],
      "execution_count": 0,
      "outputs": [
        {
          "output_type": "stream",
          "text": [
            "Found 596 images belonging to 2 classes.\n"
          ],
          "name": "stdout"
        }
      ]
    },
    {
      "cell_type": "code",
      "metadata": {
        "id": "3_2kY9k0dd9_",
        "colab_type": "code",
        "outputId": "be3aa1ad-cdb8-49d7-f289-5cbdafdaa137",
        "colab": {
          "base_uri": "https://localhost:8080/",
          "height": 34
        }
      },
      "source": [
        "test_generator = test_datagen.flow_from_directory(\n",
        "        '/content/drive/My Drive/dataset/test',\n",
        "        target_size = (224, 224))"
      ],
      "execution_count": 0,
      "outputs": [
        {
          "output_type": "stream",
          "text": [
            "Found 50 images belonging to 2 classes.\n"
          ],
          "name": "stdout"
        }
      ]
    },
    {
      "cell_type": "markdown",
      "metadata": {
        "id": "Wb9gYrRVj3jl",
        "colab_type": "text"
      },
      "source": [
        "### **Transfer learning using VGG16 model**"
      ]
    },
    {
      "cell_type": "code",
      "metadata": {
        "id": "elChA-eGbkaH",
        "colab_type": "code",
        "outputId": "b0d084f4-56d8-400e-d6e2-5c8b54feeb27",
        "colab": {
          "base_uri": "https://localhost:8080/",
          "height": 50
        }
      },
      "source": [
        "vgg_model = VGG16(input_shape=(224, 224, 3), weights='imagenet')"
      ],
      "execution_count": 0,
      "outputs": [
        {
          "output_type": "stream",
          "text": [
            "Downloading data from https://storage.googleapis.com/tensorflow/keras-applications/vgg16/vgg16_weights_tf_dim_ordering_tf_kernels.h5\n",
            "553467904/553467096 [==============================] - 7s 0us/step\n"
          ],
          "name": "stdout"
        }
      ]
    },
    {
      "cell_type": "code",
      "metadata": {
        "id": "sGcpRC8rbkeQ",
        "colab_type": "code",
        "outputId": "2ae73356-88de-4bc4-e132-164476aa0903",
        "colab": {
          "base_uri": "https://localhost:8080/",
          "height": 924
        }
      },
      "source": [
        "vgg_model.summary()"
      ],
      "execution_count": 0,
      "outputs": [
        {
          "output_type": "stream",
          "text": [
            "Model: \"vgg16\"\n",
            "_________________________________________________________________\n",
            "Layer (type)                 Output Shape              Param #   \n",
            "=================================================================\n",
            "input_1 (InputLayer)         [(None, 224, 224, 3)]     0         \n",
            "_________________________________________________________________\n",
            "block1_conv1 (Conv2D)        (None, 224, 224, 64)      1792      \n",
            "_________________________________________________________________\n",
            "block1_conv2 (Conv2D)        (None, 224, 224, 64)      36928     \n",
            "_________________________________________________________________\n",
            "block1_pool (MaxPooling2D)   (None, 112, 112, 64)      0         \n",
            "_________________________________________________________________\n",
            "block2_conv1 (Conv2D)        (None, 112, 112, 128)     73856     \n",
            "_________________________________________________________________\n",
            "block2_conv2 (Conv2D)        (None, 112, 112, 128)     147584    \n",
            "_________________________________________________________________\n",
            "block2_pool (MaxPooling2D)   (None, 56, 56, 128)       0         \n",
            "_________________________________________________________________\n",
            "block3_conv1 (Conv2D)        (None, 56, 56, 256)       295168    \n",
            "_________________________________________________________________\n",
            "block3_conv2 (Conv2D)        (None, 56, 56, 256)       590080    \n",
            "_________________________________________________________________\n",
            "block3_conv3 (Conv2D)        (None, 56, 56, 256)       590080    \n",
            "_________________________________________________________________\n",
            "block3_pool (MaxPooling2D)   (None, 28, 28, 256)       0         \n",
            "_________________________________________________________________\n",
            "block4_conv1 (Conv2D)        (None, 28, 28, 512)       1180160   \n",
            "_________________________________________________________________\n",
            "block4_conv2 (Conv2D)        (None, 28, 28, 512)       2359808   \n",
            "_________________________________________________________________\n",
            "block4_conv3 (Conv2D)        (None, 28, 28, 512)       2359808   \n",
            "_________________________________________________________________\n",
            "block4_pool (MaxPooling2D)   (None, 14, 14, 512)       0         \n",
            "_________________________________________________________________\n",
            "block5_conv1 (Conv2D)        (None, 14, 14, 512)       2359808   \n",
            "_________________________________________________________________\n",
            "block5_conv2 (Conv2D)        (None, 14, 14, 512)       2359808   \n",
            "_________________________________________________________________\n",
            "block5_conv3 (Conv2D)        (None, 14, 14, 512)       2359808   \n",
            "_________________________________________________________________\n",
            "block5_pool (MaxPooling2D)   (None, 7, 7, 512)         0         \n",
            "_________________________________________________________________\n",
            "flatten (Flatten)            (None, 25088)             0         \n",
            "_________________________________________________________________\n",
            "fc1 (Dense)                  (None, 4096)              102764544 \n",
            "_________________________________________________________________\n",
            "fc2 (Dense)                  (None, 4096)              16781312  \n",
            "_________________________________________________________________\n",
            "predictions (Dense)          (None, 1000)              4097000   \n",
            "=================================================================\n",
            "Total params: 138,357,544\n",
            "Trainable params: 138,357,544\n",
            "Non-trainable params: 0\n",
            "_________________________________________________________________\n"
          ],
          "name": "stdout"
        }
      ]
    },
    {
      "cell_type": "markdown",
      "metadata": {
        "id": "XnBs8uzRkcTo",
        "colab_type": "text"
      },
      "source": [
        "### **We not taking entire architecture from vgg we are some part of it. So, we creating our own model**\n"
      ]
    },
    {
      "cell_type": "code",
      "metadata": {
        "id": "JXltXrS0bkhR",
        "colab_type": "code",
        "colab": {}
      },
      "source": [
        "model = Sequential()"
      ],
      "execution_count": 0,
      "outputs": []
    },
    {
      "cell_type": "code",
      "metadata": {
        "id": "Vl8WDZxYehe4",
        "colab_type": "code",
        "colab": {}
      },
      "source": [
        "#Taking till 10th layer\n",
        "\n",
        "for layer in vgg_model.layers[:11]:\n",
        "    model.add(layer)"
      ],
      "execution_count": 0,
      "outputs": []
    },
    {
      "cell_type": "code",
      "metadata": {
        "id": "3pWo7tDFehrf",
        "colab_type": "code",
        "outputId": "a0721b33-bae7-488c-dc66-de8b38028bc5",
        "colab": {
          "base_uri": "https://localhost:8080/",
          "height": 487
        }
      },
      "source": [
        "model.summary()"
      ],
      "execution_count": 0,
      "outputs": [
        {
          "output_type": "stream",
          "text": [
            "Model: \"sequential\"\n",
            "_________________________________________________________________\n",
            "Layer (type)                 Output Shape              Param #   \n",
            "=================================================================\n",
            "block1_conv1 (Conv2D)        (None, 224, 224, 64)      1792      \n",
            "_________________________________________________________________\n",
            "block1_conv2 (Conv2D)        (None, 224, 224, 64)      36928     \n",
            "_________________________________________________________________\n",
            "block1_pool (MaxPooling2D)   (None, 112, 112, 64)      0         \n",
            "_________________________________________________________________\n",
            "block2_conv1 (Conv2D)        (None, 112, 112, 128)     73856     \n",
            "_________________________________________________________________\n",
            "block2_conv2 (Conv2D)        (None, 112, 112, 128)     147584    \n",
            "_________________________________________________________________\n",
            "block2_pool (MaxPooling2D)   (None, 56, 56, 128)       0         \n",
            "_________________________________________________________________\n",
            "block3_conv1 (Conv2D)        (None, 56, 56, 256)       295168    \n",
            "_________________________________________________________________\n",
            "block3_conv2 (Conv2D)        (None, 56, 56, 256)       590080    \n",
            "_________________________________________________________________\n",
            "block3_conv3 (Conv2D)        (None, 56, 56, 256)       590080    \n",
            "_________________________________________________________________\n",
            "block3_pool (MaxPooling2D)   (None, 28, 28, 256)       0         \n",
            "=================================================================\n",
            "Total params: 1,735,488\n",
            "Trainable params: 1,735,488\n",
            "Non-trainable params: 0\n",
            "_________________________________________________________________\n"
          ],
          "name": "stdout"
        }
      ]
    },
    {
      "cell_type": "code",
      "metadata": {
        "id": "rlrAP1yEehuP",
        "colab_type": "code",
        "colab": {}
      },
      "source": [
        "#Freezing first 3 layers\n",
        "\n",
        "for layer in model.layers[:-9]:\n",
        "  layer.trainable = False"
      ],
      "execution_count": 0,
      "outputs": []
    },
    {
      "cell_type": "code",
      "metadata": {
        "id": "OVv3HxdZWGJK",
        "colab_type": "code",
        "colab": {}
      },
      "source": [
        "model.add(Flatten())"
      ],
      "execution_count": 0,
      "outputs": []
    },
    {
      "cell_type": "code",
      "metadata": {
        "id": "_1z6zyLpeoow",
        "colab_type": "code",
        "colab": {}
      },
      "source": [
        "model.add(Dense(2, activation=\"softmax\"))"
      ],
      "execution_count": 0,
      "outputs": []
    },
    {
      "cell_type": "code",
      "metadata": {
        "id": "UHpyA176eosf",
        "colab_type": "code",
        "outputId": "dc0ff5f8-f2c6-47c0-8220-52a13dbd638f",
        "colab": {
          "base_uri": "https://localhost:8080/",
          "height": 554
        }
      },
      "source": [
        "model.summary()"
      ],
      "execution_count": 0,
      "outputs": [
        {
          "output_type": "stream",
          "text": [
            "Model: \"sequential\"\n",
            "_________________________________________________________________\n",
            "Layer (type)                 Output Shape              Param #   \n",
            "=================================================================\n",
            "block1_conv1 (Conv2D)        (None, 224, 224, 64)      1792      \n",
            "_________________________________________________________________\n",
            "block1_conv2 (Conv2D)        (None, 224, 224, 64)      36928     \n",
            "_________________________________________________________________\n",
            "block1_pool (MaxPooling2D)   (None, 112, 112, 64)      0         \n",
            "_________________________________________________________________\n",
            "block2_conv1 (Conv2D)        (None, 112, 112, 128)     73856     \n",
            "_________________________________________________________________\n",
            "block2_conv2 (Conv2D)        (None, 112, 112, 128)     147584    \n",
            "_________________________________________________________________\n",
            "block2_pool (MaxPooling2D)   (None, 56, 56, 128)       0         \n",
            "_________________________________________________________________\n",
            "block3_conv1 (Conv2D)        (None, 56, 56, 256)       295168    \n",
            "_________________________________________________________________\n",
            "block3_conv2 (Conv2D)        (None, 56, 56, 256)       590080    \n",
            "_________________________________________________________________\n",
            "block3_conv3 (Conv2D)        (None, 56, 56, 256)       590080    \n",
            "_________________________________________________________________\n",
            "block3_pool (MaxPooling2D)   (None, 28, 28, 256)       0         \n",
            "_________________________________________________________________\n",
            "flatten (Flatten)            (None, 200704)            0         \n",
            "_________________________________________________________________\n",
            "dense (Dense)                (None, 2)                 401410    \n",
            "=================================================================\n",
            "Total params: 2,136,898\n",
            "Trainable params: 2,135,106\n",
            "Non-trainable params: 1,792\n",
            "_________________________________________________________________\n"
          ],
          "name": "stdout"
        }
      ]
    },
    {
      "cell_type": "code",
      "metadata": {
        "id": "38aqBRK2eovf",
        "colab_type": "code",
        "colab": {}
      },
      "source": [
        "model.compile(\n",
        "  loss='categorical_crossentropy',\n",
        "  optimizer=\"Adam\",\n",
        "  metrics=['accuracy']\n",
        ")"
      ],
      "execution_count": 0,
      "outputs": []
    },
    {
      "cell_type": "code",
      "metadata": {
        "id": "vdxnDlK2eoyH",
        "colab_type": "code",
        "outputId": "43008b38-fd36-42c1-d7a8-712462ac1166",
        "colab": {
          "base_uri": "https://localhost:8080/",
          "height": 423
        }
      },
      "source": [
        "history = model.fit_generator(train_generator,\n",
        "                    validation_data=test_generator,\n",
        "                    epochs=10,\n",
        "                    steps_per_epoch=74,\n",
        "                    validation_steps=10\n",
        "                    )"
      ],
      "execution_count": 0,
      "outputs": [
        {
          "output_type": "stream",
          "text": [
            "WARNING:tensorflow:From <ipython-input-18-b91a2e975177>:5: Model.fit_generator (from tensorflow.python.keras.engine.training) is deprecated and will be removed in a future version.\n",
            "Instructions for updating:\n",
            "Please use Model.fit, which supports generators.\n",
            "Epoch 1/10\n",
            "74/74 [==============================] - 564s 8s/step - loss: 384.5068 - accuracy: 0.9751 - val_loss: 52495.4453 - val_accuracy: 0.4600\n",
            "Epoch 2/10\n",
            "74/74 [==============================] - 26s 349ms/step - loss: 0.0000e+00 - accuracy: 1.0000 - val_loss: 61222.6797 - val_accuracy: 0.4520\n",
            "Epoch 3/10\n",
            "74/74 [==============================] - 26s 350ms/step - loss: 0.0000e+00 - accuracy: 1.0000 - val_loss: 59502.8555 - val_accuracy: 0.4600\n",
            "Epoch 4/10\n",
            "74/74 [==============================] - 26s 351ms/step - loss: 0.0000e+00 - accuracy: 1.0000 - val_loss: 58402.9258 - val_accuracy: 0.4640\n",
            "Epoch 5/10\n",
            "74/74 [==============================] - 26s 352ms/step - loss: 0.0000e+00 - accuracy: 1.0000 - val_loss: 60702.9492 - val_accuracy: 0.4600\n",
            "Epoch 6/10\n",
            "74/74 [==============================] - 26s 352ms/step - loss: 0.0000e+00 - accuracy: 1.0000 - val_loss: 61360.6875 - val_accuracy: 0.4640\n",
            "Epoch 7/10\n",
            "74/74 [==============================] - 26s 355ms/step - loss: 0.0000e+00 - accuracy: 1.0000 - val_loss: 61564.5312 - val_accuracy: 0.4600\n",
            "Epoch 8/10\n",
            "74/74 [==============================] - 26s 354ms/step - loss: 0.0000e+00 - accuracy: 1.0000 - val_loss: 58756.6797 - val_accuracy: 0.4720\n",
            "Epoch 9/10\n",
            "74/74 [==============================] - 26s 357ms/step - loss: 0.0000e+00 - accuracy: 1.0000 - val_loss: 61481.3750 - val_accuracy: 0.4600\n",
            "Epoch 10/10\n",
            "74/74 [==============================] - 26s 358ms/step - loss: 0.0000e+00 - accuracy: 1.0000 - val_loss: 61495.1797 - val_accuracy: 0.4560\n"
          ],
          "name": "stdout"
        }
      ]
    },
    {
      "cell_type": "code",
      "metadata": {
        "id": "LCWLYbYN5Fyq",
        "colab_type": "code",
        "colab": {}
      },
      "source": [
        "model.save(\"model.h5\")"
      ],
      "execution_count": 0,
      "outputs": []
    }
  ]
}